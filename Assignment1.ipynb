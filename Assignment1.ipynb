{
 "cells": [
  {
   "cell_type": "markdown",
   "id": "b983b7fa-b986-4d44-861e-d722d5ce3e66",
   "metadata": {},
   "source": [
    "# Samanyastra - FutureForge - June - 2025\n",
    "---\n",
    "\n",
    "Desclaimer: \\\n",
    "This notebook is a copyrighted property of samanyastra Education Pvt Ltd. Redistribution and selling of this property is a violation of conduct and leads to leagal action\n",
    "\n",
    "---\n",
    "\n",
    "Dear candidate, \\\n",
    "As a part of learning journey you will receive these notebooks across your 2 months of program which are supposed to be compleetd before 24 hours / mentioned number of hours in session. \n",
    "\n",
    "---\n",
    "\n",
    "**How to use this notebook**\n",
    "\n",
    "- just download your notebook and move to the folder where you want to work.\n",
    "- `pip install notebook` run this command in your terminal if you do not have notebook module installed\n",
    "- `cd path\\to\\your\\file.ipynb` and `python -m notebook` run these two commands to open notebook in your desired folder. Please note to replace `path\\to\\your\\file.ipynb` with your own path to this notebook\n",
    "- write the necessary codes and hit ctrl+s or command+S to save it.\n",
    "- once completed, upload the same notebook in the given submission link.\n",
    "\n",
    "---\n",
    "\n",
    "<div style=\"text-align:right\">All the best, <br/> Team Samanyastra </div>"
   ]
  },
  {
   "cell_type": "code",
   "execution_count": null,
   "id": "15e11402-3c0b-4651-98bd-b38d5e638131",
   "metadata": {},
   "outputs": [],
   "source": [
    "# simply run this cell.\n",
    "sentence = \"The,re are soo many ',' ins,ide thi,s se,ntence, pl,ease remo,ve these, comma,s to make, it reada,ble and me,aning,fu,l\""
   ]
  },
  {
   "cell_type": "code",
   "execution_count": null,
   "id": "c7559cda-998b-4fd8-b804-43e122a50d28",
   "metadata": {},
   "outputs": [],
   "source": []
  },
  {
   "cell_type": "code",
   "execution_count": null,
   "id": "e7746a54-fa61-4ae0-ae2a-a8b382eaf2fd",
   "metadata": {},
   "outputs": [],
   "source": [
    "# Question 1\n",
    "# using string methods to count how many commas (,) are there in the above sentence "
   ]
  },
  {
   "cell_type": "code",
   "execution_count": null,
   "id": "4dbbb3f2-8c64-4eea-8145-c6aec5c406c8",
   "metadata": {},
   "outputs": [],
   "source": [
    "# write your code here"
   ]
  },
  {
   "cell_type": "code",
   "execution_count": 68,
   "id": "f62d74e3-d57b-4f91-99ee-2e8055ccaa61",
   "metadata": {},
   "outputs": [
    {
     "name": "stdout",
     "output_type": "stream",
     "text": [
      "15\n"
     ]
    }
   ],
   "source": [
    "print(sentence.count(\",\"))"
   ]
  },
  {
   "cell_type": "code",
   "execution_count": null,
   "id": "519cf425-1ccd-49f8-bfda-9b1baf478e5d",
   "metadata": {},
   "outputs": [],
   "source": []
  },
  {
   "cell_type": "code",
   "execution_count": null,
   "id": "216c03de-4b17-4c03-a9b4-49fde350b0da",
   "metadata": {},
   "outputs": [],
   "source": [
    "# Question 2\n",
    "# remove all the commas in the above sentence and store with same variable name"
   ]
  },
  {
   "cell_type": "code",
   "execution_count": null,
   "id": "121e04a3-b2a3-419d-97fb-16b71bc72886",
   "metadata": {},
   "outputs": [],
   "source": [
    "#write your code here"
   ]
  },
  {
   "cell_type": "code",
   "execution_count": 70,
   "id": "8ccefcbd-0b66-4cab-90be-825340bc4135",
   "metadata": {
    "scrolled": true
   },
   "outputs": [
    {
     "name": "stdout",
     "output_type": "stream",
     "text": [
      "There are soo many '' inside this sentence please remove these commas to make it readable and meaningful\n"
     ]
    }
   ],
   "source": [
    "sentence = sentence.replace(\",\",\"\")\n",
    "print(sentence)"
   ]
  },
  {
   "cell_type": "code",
   "execution_count": null,
   "id": "f3915371-69bf-4843-b225-0764f64c0d2f",
   "metadata": {},
   "outputs": [],
   "source": []
  },
  {
   "cell_type": "code",
   "execution_count": null,
   "id": "aef8afe0-e348-493e-949d-73f5a272ee36",
   "metadata": {},
   "outputs": [],
   "source": [
    "# Question 3\n",
    "# convert the sentence after removing commas to list separated by space \" \" \n",
    "# hint use split() method in string"
   ]
  },
  {
   "cell_type": "code",
   "execution_count": null,
   "id": "6b32c168-b42f-46ac-b475-61e5d9d2b934",
   "metadata": {},
   "outputs": [],
   "source": [
    "# write your code here. "
   ]
  },
  {
   "cell_type": "code",
   "execution_count": null,
   "id": "7f4fb8ca-d477-4111-8e8c-92d447b6a10b",
   "metadata": {},
   "outputs": [],
   "source": [
    "sentence = sentence.split(\" \")\n",
    "print(sentence)"
   ]
  },
  {
   "cell_type": "code",
   "execution_count": null,
   "id": "6543fc4f-6092-47b5-ad62-b64224abcc91",
   "metadata": {},
   "outputs": [],
   "source": []
  },
  {
   "cell_type": "code",
   "execution_count": 26,
   "id": "fc0b9084-e746-4ba0-a6a9-6fb78d998fa2",
   "metadata": {},
   "outputs": [],
   "source": [
    "# simply run this cell\n",
    "wording = \"India is my country, in INDIA everyone is treated as equal. IndIA has a unique nature of Unity in Diversity nature. IndiA has its own flavour of taste, choice and culture.\""
   ]
  },
  {
   "cell_type": "code",
   "execution_count": null,
   "id": "5c30276d-e966-4a7e-867c-eba49f9c5c11",
   "metadata": {},
   "outputs": [],
   "source": [
    "# Question 4\n",
    "# how many times the word INDIA  / india has come in the sentence. Please note the casing is different each time"
   ]
  },
  {
   "cell_type": "code",
   "execution_count": null,
   "id": "3969e7b7-c565-40a8-81ed-b3d30d6a238b",
   "metadata": {},
   "outputs": [],
   "source": [
    "# write your code here"
   ]
  },
  {
   "cell_type": "code",
   "execution_count": 64,
   "id": "e5bc50c5-8873-4534-ab2e-26df869f9a75",
   "metadata": {},
   "outputs": [
    {
     "name": "stdout",
     "output_type": "stream",
     "text": [
      "4\n"
     ]
    }
   ],
   "source": [
    "wording = wording.lower()\n",
    "print(wording.count(\"india\"))"
   ]
  },
  {
   "cell_type": "code",
   "execution_count": null,
   "id": "c6a49937-d367-4997-b5e3-8876e68f8aa4",
   "metadata": {},
   "outputs": [],
   "source": []
  },
  {
   "cell_type": "code",
   "execution_count": null,
   "id": "c00f37a4-986a-4470-9a3c-eff0eaeff49d",
   "metadata": {},
   "outputs": [],
   "source": []
  },
  {
   "cell_type": "code",
   "execution_count": 35,
   "id": "72201f24-5e27-4a85-956b-5bea50cfcf17",
   "metadata": {},
   "outputs": [],
   "source": [
    "# Simply run this cell\n",
    "word = \"Mbabgaiaca aoafa apayatahaoana\""
   ]
  },
  {
   "cell_type": "markdown",
   "id": "577d4308-90ad-4227-bfc1-fe2fbe020b17",
   "metadata": {},
   "source": [
    "`Priti` and `You` are cybersecurity warriors, so you both don't communicate normally. Whenver `Priti` sends you a message it is encrypted with a key (number). If you use the number and pass right `step` value in `slicing` the message you will get the message decoded. \\\n",
    "\n",
    "**Can you find out the step key and complete the below code to get the message?**"
   ]
  },
  {
   "cell_type": "code",
   "execution_count": 41,
   "id": "c39fd044-ffda-4776-b8be-bddf6a09f2b7",
   "metadata": {},
   "outputs": [
    {
     "name": "stdout",
     "output_type": "stream",
     "text": [
      "Magic of python\n"
     ]
    }
   ],
   "source": [
    "# Quesiton 5\n",
    "# Give right values for the start, end and step to get the message \n",
    "start = 0\n",
    "end = 29\n",
    "step = 2\n",
    "message = word[start:end:step]\n",
    "print(message)"
   ]
  },
  {
   "cell_type": "code",
   "execution_count": null,
   "id": "cf4d1b9e-462d-40a4-a56f-e09246b3d268",
   "metadata": {},
   "outputs": [],
   "source": []
  },
  {
   "cell_type": "code",
   "execution_count": null,
   "id": "cddd6ff4",
   "metadata": {},
   "outputs": [],
   "source": []
  },
  {
   "cell_type": "markdown",
   "id": "df6c40ef",
   "metadata": {},
   "source": [
    "#### Question 6\n",
    "\n",
    "### **Problem Statement: Personalized Greeting with Age Forecast**\n",
    "\n",
    "Write a program that takes two user inputs:\n",
    "\n",
    "* **Name** (a string)\n",
    "* **Age** (an integer)\n",
    "\n",
    "The program should:\n",
    "\n",
    "1. Print a **personalized greeting** using the name.\n",
    "2. Perform an **arithmetic operation** on the age — Calculate how old the person will be **in 10 years**.\n",
    "3. Display this calculated age in a friendly message.\n",
    "\n",
    "---\n",
    "\n",
    "### **Sample Input:**\n",
    "\n",
    "```\n",
    "Enter your name: Piyusha\n",
    "Enter your age: 15\n",
    "```\n",
    "\n",
    "### **Sample Output:**\n",
    "\n",
    "```\n",
    "Hello Piyusha! Nice to meet you.\n",
    "Did you know you'll be 25 years old in 10 years?\n",
    "```\n"
   ]
  },
  {
   "cell_type": "code",
   "execution_count": 71,
   "id": "29ec3aca",
   "metadata": {},
   "outputs": [
    {
     "name": "stdout",
     "output_type": "stream",
     "text": [
      "Enter your name :  Piyusha\n",
      "Enter your age :  20\n"
     ]
    },
    {
     "name": "stdout",
     "output_type": "stream",
     "text": [
      "Hello Piyusha ,Nice to see you.\n",
      "Can't believe, after 10 years you will be 30 years old!!\n"
     ]
    }
   ],
   "source": [
    "name = input(\"Enter your name : \")\n",
    "age = int(input(\"Enter your age : \"))\n",
    "\n",
    "print(\"Hello\",name,\",Nice to see you.\")\n",
    "\n",
    "print(\"Can't believe, after 10 years you will be\",age+10,\"years old!!\")"
   ]
  },
  {
   "cell_type": "markdown",
   "id": "0d1f95e5-b086-444c-bdc9-1b8b3b6a89e7",
   "metadata": {},
   "source": [
    "### THE END "
   ]
  },
  {
   "cell_type": "code",
   "execution_count": null,
   "id": "aab55307-3665-45e8-8112-506a4783d812",
   "metadata": {},
   "outputs": [],
   "source": []
  }
 ],
 "metadata": {
  "kernelspec": {
   "display_name": "Python 3 (ipykernel)",
   "language": "python",
   "name": "python3"
  },
  "language_info": {
   "codemirror_mode": {
    "name": "ipython",
    "version": 3
   },
   "file_extension": ".py",
   "mimetype": "text/x-python",
   "name": "python",
   "nbconvert_exporter": "python",
   "pygments_lexer": "ipython3",
   "version": "3.13.5"
  }
 },
 "nbformat": 4,
 "nbformat_minor": 5
}
